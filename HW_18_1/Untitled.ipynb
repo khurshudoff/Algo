{
 "cells": [
  {
   "cell_type": "code",
   "execution_count": 49,
   "metadata": {},
   "outputs": [],
   "source": [
    "import random as rd\n",
    "import numpy as np"
   ]
  },
  {
   "cell_type": "code",
   "execution_count": 54,
   "metadata": {},
   "outputs": [],
   "source": [
    "def vect(x, y):\n",
    "    return (y[0] - x[0]) * "
   ]
  },
  {
   "cell_type": "code",
   "execution_count": 61,
   "metadata": {},
   "outputs": [],
   "source": [
    "def my_comp(x,y):\n",
    "    return vect(x, p0) > vect(y,p0)\n",
    "\n",
    "def make_comp(less_than):\n",
    "    def comp(x,y):\n",
    "        return vect(x, p0) > vect(y,p0)\n",
    "    return comp"
   ]
  },
  {
   "cell_type": "code",
   "execution_count": 66,
   "metadata": {},
   "outputs": [],
   "source": [
    "points = np.array([(rd.random() * 10, rd.random() * 10) for _ in range(10)])"
   ]
  },
  {
   "cell_type": "code",
   "execution_count": 83,
   "metadata": {},
   "outputs": [
    {
     "name": "stdout",
     "output_type": "stream",
     "text": [
      "{ 8.389008820555386 , 8.749959074544668 },\n",
      "{ 3.9639702892521878 , 2.412571357644685 },\n",
      "{ 9.656818287800313 , 5.565872096797695 },\n",
      "{ 3.5308785822035746 , 8.777570817995478 },\n",
      "{ 1.8117843917925591 , 1.693751402627478 },\n",
      "{ 8.70895355303746 , 6.085947548329988 },\n",
      "{ 9.61278652272058 , 2.0276900595576075 },\n",
      "{ 7.012953598535655 , 0.09396924897608572 },\n",
      "{ 9.339880691735353 , 5.311097409630538 },\n",
      "{ 3.7795259915780366 , 2.096744494415871 },\n"
     ]
    }
   ],
   "source": [
    "for el in points:\n",
    "    print('{', el[0], ',', el[1], '},')"
   ]
  },
  {
   "cell_type": "code",
   "execution_count": 67,
   "metadata": {},
   "outputs": [
    {
     "data": {
      "text/plain": [
       "array([7.0129536 , 0.09396925])"
      ]
     },
     "execution_count": 67,
     "metadata": {},
     "output_type": "execute_result"
    }
   ],
   "source": [
    "p0 = min(points, key=lambda x:x[1])\n",
    "p0"
   ]
  },
  {
   "cell_type": "code",
   "execution_count": 73,
   "metadata": {},
   "outputs": [],
   "source": [
    "def sign(x):\n",
    "    return -1 if x < 0 else 1"
   ]
  },
  {
   "cell_type": "code",
   "execution_count": 99,
   "metadata": {},
   "outputs": [],
   "source": [
    "points = [\n",
    "    [0, 0],\n",
    "    [3, 3],\n",
    "    [1, 1],\n",
    "    [2, 2],\n",
    "    [0, 3],\n",
    "    [3, 0],\n",
    "]"
   ]
  },
  {
   "cell_type": "code",
   "execution_count": 100,
   "metadata": {},
   "outputs": [],
   "source": [
    "asd = np.array([\n",
    "    [0, 0],\n",
    "    [3, 3],\n",
    "    [1, 1],\n",
    "    [2, 2],\n",
    "    [0, 3],\n",
    "    [3, 0],\n",
    "])"
   ]
  },
  {
   "cell_type": "code",
   "execution_count": 103,
   "metadata": {},
   "outputs": [
    {
     "data": {
      "image/png": "[encoded data removed]",
      "text/plain": [
       "<Figure size 864x504 with 1 Axes>"
      ]
     },
     "metadata": {
      "needs_background": "light"
     },
     "output_type": "display_data"
    }
   ],
   "source": [
    "import matplotlib.pyplot as plt\n",
    "\n",
    "plt.figure(figsize=(12,7))\n",
    "plt.xlim(0-0.5,3.5)\n",
    "plt.ylim(0-0.5,3.5)\n",
    "# plt.plot(points.T[0], points.T[1], 'bo')\n",
    "for idx, p in enumerate(points):\n",
    "    plt.scatter(p[0], p[1], c='red')\n",
    "    plt.text(p[0]-0.09, p[1] + 0.25, str(idx))\n",
    "    \n",
    "# plt.plot(asd.T[0], asd.T[1])"
   ]
  },
  {
   "cell_type": "code",
   "execution_count": null,
   "metadata": {},
   "outputs": [],
   "source": []
  }
 ],
 "metadata": {
  "kernelspec": {
   "display_name": "py3.6",
   "language": "python",
   "name": "other-env"
  },
  "language_info": {
   "codemirror_mode": {
    "name": "ipython",
    "version": 3
   },
   "file_extension": ".py",
   "mimetype": "text/x-python",
   "name": "python",
   "nbconvert_exporter": "python",
   "pygments_lexer": "ipython3",
   "version": "3.6.5"
  }
 },
 "nbformat": 4,
 "nbformat_minor": 4
}
